{
  "nbformat": 4,
  "nbformat_minor": 0,
  "metadata": {
    "colab": {
      "provenance": []
    },
    "kernelspec": {
      "name": "python3",
      "display_name": "Python 3"
    },
    "language_info": {
      "name": "python"
    }
  },
  "cells": [
    {
      "cell_type": "markdown",
      "source": [
        "# Circular Linked List"
      ],
      "metadata": {
        "id": "JEtPeqZZ3OdS"
      }
    },
    {
      "cell_type": "code",
      "source": [
        "class Node:\n",
        "  def __init__(self, data):\n",
        "      self.data = data\n",
        "      self.next = None\n",
        "\n",
        "\n",
        "class CircularLinkedList:\n",
        "  def __init__(self):\n",
        "      self.last = None\n",
        "\n",
        "  def add_To_Empty(self, data):\n",
        "      if self.last != None:\n",
        "        return self.last\n",
        "      new_node = Node(data)\n",
        "      self.last = new_node\n",
        "      self.last.next = self.last\n",
        "      return self.last\n",
        "\n",
        "  def add_beg(self, data):\n",
        "      if self.last == None:\n",
        "        return self.addToEmpty(data)\n",
        "      new_node = Node(data)\n",
        "      new_node.next = self.last.next\n",
        "      self.last.next = new_node\n",
        "      return self.last\n",
        "\n",
        "  def add_end(self, data):\n",
        "      if self.last == None:\n",
        "        return self.addToEmpty(data)\n",
        "      new_node = Node(data)\n",
        "      new_node.next = self.last.next\n",
        "      self.last.next = new_node\n",
        "      self.last = new_node\n",
        "      return self.last\n",
        "\n",
        "  def add_after(self, data, item):\n",
        "      if self.last == None:\n",
        "        return None\n",
        "      new_node = Node(data)\n",
        "      n = self.last.next\n",
        "      while n:\n",
        "        if n.data == item:\n",
        "          new_node.next = n.next\n",
        "          n.next = new_node\n",
        "          if n == self.last:\n",
        "            self.last = new_node\n",
        "            return self.last\n",
        "          else:\n",
        "            return self.last\n",
        "        n = n.next\n",
        "        if n == self.last.next:\n",
        "          print(item, \"The given node is not present in the list\")\n",
        "          break\n",
        "\n",
        "  def delete(self, last, key):\n",
        "    if self.last == None:\n",
        "      return\n",
        "    if self.last.data == key and self.last.next == self.last:\n",
        "      self.last = None\n",
        "    temp = self.last\n",
        "    d = None\n",
        "    if self.last.data == key:\n",
        "      while temp.next != self.last:\n",
        "        temp = temp.next\n",
        "      temp.next = self.last.next\n",
        "      self.last = temp.next\n",
        "    while temp.next != self.last and temp.next.data != key:\n",
        "      temp = temp.next\n",
        "    if temp.next.data == key:\n",
        "      d = temp.next\n",
        "      temp.next = d.next\n",
        "    return self.last\n",
        "\n",
        "  def traverse(self):\n",
        "    if self.last == None:\n",
        "      print(\"The list is empty\")\n",
        "      return\n",
        "    n = self.last.next\n",
        "    while n:\n",
        "      print(n.data, end=\"-->\")\n",
        "      n = n.next\n",
        "      if n == self.last.next:\n",
        "        break\n",
        "\n",
        "\n",
        "cll = CircularLinkedList()\n",
        "last = cll.add_To_Empty(6)\n",
        "last = cll.add_end(8)\n",
        "last = cll.add_beg(2)\n",
        "last = cll.add_after(10, 2)\n",
        "cll.traverse()\n",
        "last = cll.delete(last, 8)\n",
        "print(\"\\n\")\n",
        "cll.traverse()"
      ],
      "metadata": {
        "colab": {
          "base_uri": "https://localhost:8080/"
        },
        "id": "634pwWhi4BOD",
        "outputId": "824e933d-fa87-42eb-825e-76b257ab0755"
      },
      "execution_count": 20,
      "outputs": [
        {
          "output_type": "stream",
          "name": "stdout",
          "text": [
            "2-->10-->6-->8-->\n",
            "\n",
            "10-->6-->2-->"
          ]
        }
      ]
    }
  ]
}