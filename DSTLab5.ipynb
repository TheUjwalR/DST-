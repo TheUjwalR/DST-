{
  "nbformat": 4,
  "nbformat_minor": 0,
  "metadata": {
    "colab": {
      "provenance": []
    },
    "kernelspec": {
      "name": "python3",
      "display_name": "Python 3"
    },
    "language_info": {
      "name": "python"
    }
  },
  "cells": [
    {
      "cell_type": "markdown",
      "source": [
        "# Converting Infix to Postfix Expressions:"
      ],
      "metadata": {
        "id": "IoD6Ndi8kGiv"
      }
    },
    {
      "cell_type": "code",
      "source": [
        "def is_operator(char):\n",
        "  return char in {\"+\",\"-\",\"*\",\"/\"}\n",
        "\n",
        "def precedence(operator):\n",
        "  if operator==\"+\" or operator==\"-\":\n",
        "    return 1\n",
        "  elif operator==\"*\" or operator==\"/\":\n",
        "    return 2\n",
        "  else:\n",
        "    return 0\n",
        "\n",
        "def infix_to_postfix(infix_expression):\n",
        "  stack=[]\n",
        "  postfix_expression=[]\n",
        "  for char in infix_expression:\n",
        "    if char.isalnum():\n",
        "      postfix_expression.append(char)\n",
        "    elif char==\"(\":\n",
        "      stack.append(char)\n",
        "    elif char==\")\":\n",
        "      while stack and stack[-1]!=\"(\":\n",
        "        postfix_expression.append(stack.pop())\n",
        "      stack.pop()\n",
        "    elif is_operator(char):\n",
        "      while stack and precedence(stack[-1])>=precedence(char):\n",
        "        postfix_expression.append(stack.pop())\n",
        "      stack.append(char)\n",
        "  while stack:\n",
        "    postfix_expression.append(stack.pop())\n",
        "  return \"\".join(postfix_expression)\n",
        "\n",
        "infix=input(\"Enter the Infix Expression: \")\n",
        "postfix=infix_to_postfix(infix)\n",
        "print(f\"Infix Expression = {infix}\")\n",
        "print(f\"Postfix Expression = {postfix}\")"
      ],
      "metadata": {
        "colab": {
          "base_uri": "https://localhost:8080/"
        },
        "id": "P91vFahtnuSV",
        "outputId": "9cce164e-94e8-486e-e20f-99eee5f83414"
      },
      "execution_count": null,
      "outputs": [
        {
          "output_type": "stream",
          "name": "stdout",
          "text": [
            "Enter the Infix Expression: (AX*(BX*(((CY+AY)+BY)*CX)))\n",
            "Infix Expression = (AX*(BX*(((CY+AY)+BY)*CX)))\n",
            "Postfix Expression = AXBXCYAY+BY+CX***\n"
          ]
        }
      ]
    },
    {
      "cell_type": "markdown",
      "source": [
        "#Evaluating Postfix Expressions"
      ],
      "metadata": {
        "id": "iAq9pQzDkNI-"
      }
    },
    {
      "cell_type": "code",
      "source": [
        "def is_operand(char):\n",
        "  return char.isalnum()\n",
        "\n",
        "def evaluate_postfix(postfix_expression):\n",
        "  stack=[]\n",
        "  for char in postfix_expression:\n",
        "    if is_operand(char):\n",
        "      stack.append(float(char))\n",
        "    else:\n",
        "      operand2=stack.pop()\n",
        "      operand1=stack.pop()\n",
        "      if char==\"+\":\n",
        "        result=operand1+operand2\n",
        "      elif char==\"-\":\n",
        "        result=operand1-operand2\n",
        "      elif char==\"*\":\n",
        "        result=operand1*operand2\n",
        "      elif char==\"/\":\n",
        "        result=operand1/operand2\n",
        "      stack.append(result)\n",
        "  return stack.pop()\n",
        "\n",
        "postfix=input(\"Enter the Postfix Expression: \")\n",
        "result=evaluate_postfix(postfix)\n",
        "print(f\"Postfix Expression: {postfix}\")\n",
        "print(f\"Result: {result}\")"
      ],
      "metadata": {
        "colab": {
          "base_uri": "https://localhost:8080/"
        },
        "id": "6LKzJJg5sNPV",
        "outputId": "84849dd8-10b1-41c5-9ba0-2b0fbec0b06d"
      },
      "execution_count": null,
      "outputs": [
        {
          "output_type": "stream",
          "name": "stdout",
          "text": [
            "Enter the Postfix Expression: 4325*-+\n",
            "Postfix Expression: 4325*-+\n",
            "Result: -3.0\n"
          ]
        }
      ]
    }
  ]
}