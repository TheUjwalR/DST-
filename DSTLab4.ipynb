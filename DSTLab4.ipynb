{
  "nbformat": 4,
  "nbformat_minor": 0,
  "metadata": {
    "colab": {
      "provenance": []
    },
    "kernelspec": {
      "name": "python3",
      "display_name": "Python 3"
    },
    "language_info": {
      "name": "python"
    }
  },
  "cells": [
    {
      "cell_type": "markdown",
      "source": [
        "# Stack Implementation using Lists:"
      ],
      "metadata": {
        "id": "jUmP6cGFFN_8"
      }
    },
    {
      "cell_type": "code",
      "execution_count": null,
      "metadata": {
        "colab": {
          "base_uri": "https://localhost:8080/"
        },
        "id": "u3UX7rGt2Dik",
        "outputId": "0164386f-6572-40fb-e06a-3e02a053c012"
      },
      "outputs": [
        {
          "name": "stdout",
          "output_type": "stream",
          "text": [
            "Enter the max elements of the stack: 3\n",
            "Choose the operation to be performed: \n",
            "1. Push\n",
            "2. Pop\n",
            "3. Quit\n",
            "\n",
            "1\n",
            "Enter the element to be pushed into the stack: 10\n",
            "['10']\n",
            "Choose the operation to be performed: \n",
            "1. Push\n",
            "2. Pop\n",
            "3. Quit\n",
            "\n",
            "1\n",
            "Enter the element to be pushed into the stack: 20\n",
            "['10', '20']\n",
            "Choose the operation to be performed: \n",
            "1. Push\n",
            "2. Pop\n",
            "3. Quit\n",
            "\n",
            "1\n",
            "Enter the element to be pushed into the stack: 30\n",
            "['10', '20', '30']\n",
            "Choose the operation to be performed: \n",
            "1. Push\n",
            "2. Pop\n",
            "3. Quit\n",
            "\n",
            "1\n",
            "Enter the element to be pushed into the stack: 40\n",
            "Stack Overflow!!\n",
            "Choose the operation to be performed: \n",
            "1. Push\n",
            "2. Pop\n",
            "3. Quit\n",
            "\n",
            "2\n",
            "Removed Element: 30\n",
            "['10', '20']\n",
            "Choose the operation to be performed: \n",
            "1. Push\n",
            "2. Pop\n",
            "3. Quit\n",
            "\n",
            "2\n",
            "Removed Element: 20\n",
            "['10']\n",
            "Choose the operation to be performed: \n",
            "1. Push\n",
            "2. Pop\n",
            "3. Quit\n",
            "\n",
            "2\n",
            "Removed Element: 10\n",
            "[]\n",
            "Choose the operation to be performed: \n",
            "1. Push\n",
            "2. Pop\n",
            "3. Quit\n",
            "\n",
            "2\n",
            "Stack Underflow!!\n",
            "Choose the operation to be performed: \n",
            "1. Push\n",
            "2. Pop\n",
            "3. Quit\n",
            "\n",
            "3\n"
          ]
        }
      ],
      "source": [
        "lim=int(input(\"Enter the max elements of the stack: \"))\n",
        "\n",
        "def createStack():\n",
        "  stack = []\n",
        "  return stack\n",
        "\n",
        "def push(stack,item):\n",
        "  if len(stack)==lim:\n",
        "    print(\"Stack Overflow!!\")\n",
        "    return\n",
        "  stack.append(item)\n",
        "  print(stack)\n",
        "\n",
        "def pop(stack):\n",
        "  if len(stack)==0:\n",
        "    print(\"Stack Underflow!!\")\n",
        "    return\n",
        "  else:\n",
        "    ele=stack.pop()\n",
        "    print(f\"Removed Element: {ele}\")\n",
        "    print(stack)\n",
        "\n",
        "stack = createStack()\n",
        "while True:\n",
        "  print(\"Choose the operation to be performed: \\n1. Push\\n2. Pop\\n3. Quit\\n\")\n",
        "  choice=int(input())\n",
        "  if choice==1:\n",
        "    item=input(\"Enter the element to be pushed into the stack: \")\n",
        "    push(stack,item)\n",
        "  elif choice==2:\n",
        "    pop(stack)\n",
        "  elif choice==3:\n",
        "    break\n",
        "  else:\n",
        "    print(\"Please enter a valid choice!\")\n"
      ]
    },
    {
      "cell_type": "markdown",
      "source": [
        "# Stack Implementation using Linked Lists"
      ],
      "metadata": {
        "id": "6Q7k7HmDJNpO"
      }
    },
    {
      "cell_type": "code",
      "source": [
        "class Node:\n",
        "  def __init__(self,data):\n",
        "    self.data = data\n",
        "    self.next = None\n",
        "\n",
        "class Stack:\n",
        "  def __init__(self):\n",
        "    self.top = None\n",
        "    self.lim = int(input(\"Enter the limit of the stack: \"))\n",
        "  def size(self):\n",
        "    if self.top is None:\n",
        "      size = 0\n",
        "      return size\n",
        "    elif self.top.next is None:\n",
        "      size = 1\n",
        "      return size\n",
        "    else:\n",
        "      size = 1\n",
        "      temp = self.top\n",
        "      while temp.next is not None:\n",
        "        temp = temp.next\n",
        "        size = size + 1\n",
        "      return size\n",
        "  def push(self, x):\n",
        "    new = Node(x)\n",
        "    a = self.size()\n",
        "    if self.top is None:\n",
        "      self.top = new\n",
        "      self.top.next = None\n",
        "    elif a == self.lim:\n",
        "      print(\"Stack Overflow!!\")\n",
        "      print(f\"{x} cannot be pushed into the stack!!\")\n",
        "    else:\n",
        "      new.next = self.top\n",
        "      self.top = new\n",
        "  def pop(self):\n",
        "    if self.top is None:\n",
        "      print(\"\\nThe stack is empty!!\")\n",
        "      print(\"\\nStack Underflow!!\")\n",
        "    elif self.top.next is None:\n",
        "      print(f\"\\nPopped element is: {self.top.data}\")\n",
        "      print(\"--------------------------------------\")\n",
        "      self.top = None\n",
        "    else:\n",
        "      temp = self.top\n",
        "      print(f\"\\nPopped element is: {self.top.data}\")\n",
        "      print(\"--------------------------------------\")\n",
        "      self.top = temp.next\n",
        "      temp = None\n",
        "  def display(self):\n",
        "    if self.top is None:\n",
        "      print(\"\\nStack Underflow!!\")\n",
        "    else:\n",
        "      n = self.top\n",
        "      while n is not None:\n",
        "        print(n.data, end = \"\")\n",
        "        n = n.next\n",
        "        print(\" --> \", end = \"\")\n",
        "\n",
        "stack=Stack()\n",
        "stack.push(10)\n",
        "stack.push(20)\n",
        "stack.push(30)\n",
        "stack.push(40)\n",
        "stack.push(50)\n",
        "stack.push(60)\n",
        "stack.display()\n",
        "stack.pop()\n",
        "stack.display()\n",
        "stack.pop()\n",
        "stack.display()"
      ],
      "metadata": {
        "id": "_QpCjeUtJRym",
        "colab": {
          "base_uri": "https://localhost:8080/"
        },
        "outputId": "026f540b-7e48-4ca0-a3b0-b9e5f39fc3cc"
      },
      "execution_count": 4,
      "outputs": [
        {
          "output_type": "stream",
          "name": "stdout",
          "text": [
            "Enter the limit of the stack: 5\n",
            "Stack Overflow!!\n",
            "60 cannot be pushed into the stack!!\n",
            "50 --> 40 --> 30 --> 20 --> 10 --> \n",
            "Popped element is: 50\n",
            "--------------------------------------\n",
            "40 --> 30 --> 20 --> 10 --> \n",
            "Popped element is: 40\n",
            "--------------------------------------\n",
            "30 --> 20 --> 10 --> "
          ]
        }
      ]
    }
  ]
}